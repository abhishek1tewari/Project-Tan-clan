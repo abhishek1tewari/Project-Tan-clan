{
 "cells": [
  {
   "cell_type": "code",
   "execution_count": null,
   "id": "05d7aceb-1194-4ac6-a7bc-fd3d7a2d5907",
   "metadata": {},
   "outputs": [
    {
     "name": "stdout",
     "output_type": "stream",
     "text": [
      "🤖 Welcome to The Tan Clan Helper Bot!\n",
      "Ask me about 'wallets', 'bags', 'bestsellers', or 'new arrivals'. Type 'exit' to quit.\n",
      "\n"
     ]
    },
    {
     "name": "stdin",
     "output_type": "stream",
     "text": [
      "You:  wallets\n"
     ]
    },
    {
     "name": "stdout",
     "output_type": "stream",
     "text": [
      "🔗 Here's what you're looking for: https://www.thetanclan.in/collections/wallets\n",
      "\n"
     ]
    },
    {
     "name": "stdin",
     "output_type": "stream",
     "text": [
      "You:  bags\n"
     ]
    },
    {
     "name": "stdout",
     "output_type": "stream",
     "text": [
      "🔗 Here's what you're looking for: https://www.thetanclan.in/collections/bags\n",
      "\n"
     ]
    },
    {
     "name": "stdin",
     "output_type": "stream",
     "text": [
      "You:  bestsellers\n"
     ]
    },
    {
     "name": "stdout",
     "output_type": "stream",
     "text": [
      "🔗 Here's what you're looking for: https://www.thetanclan.in/collections/bestsellers\n",
      "\n"
     ]
    },
    {
     "name": "stdin",
     "output_type": "stream",
     "text": [
      "You:  new arrivals\n"
     ]
    },
    {
     "name": "stdout",
     "output_type": "stream",
     "text": [
      "🔗 Here's what you're looking for: https://www.thetanclan.in/collections/new-arrivals\n",
      "\n"
     ]
    }
   ],
   "source": [
    "# tan_clan_chatbot.py\n",
    "\n",
    "link_map = {\n",
    "    \"gift card\": \"https://www.thetanclan.in/products/the-tan-clan-gift-card\",\n",
    "    \"giftcard\": \"https://www.thetanclan.in/products/the-tan-clan-gift-card\",\n",
    "    \"contact\": \"https://www.thetanclan.in/pages/contact\",\n",
    "    \"flap bag\": \"https://www.thetanclan.in/collections/flap-bags\",\n",
    "    \"flap bags\": \"https://www.thetanclan.in/collections/flap-bags\",\n",
    "    \"potli\": \"https://www.thetanclan.in/collections/potlis\",\n",
    "    \"potlis\": \"https://www.thetanclan.in/collections/potlis\",\n",
    "    \"batua\": \"https://www.thetanclan.in/collections/batua-bags\",\n",
    "    \"batua bag\": \"https://www.thetanclan.in/collections/batua-bags\",\n",
    "    \"shoulder bag\": \"https://www.thetanclan.in/collections/shoulder-bags\",\n",
    "    \"shoulder bags\": \"https://www.thetanclan.in/collections/shoulder-bags\",\n",
    "    \"luxury collection\": \"https://www.thetanclan.in/collections/luxe-collection\",\n",
    "    \"luxe collection\": \"https://www.thetanclan.in/collections/luxe-collection\",\n",
    "}\n",
    "\n",
    "def chatbot():\n",
    "    print(\"\\n👜 Welcome to *The Tan Clan*!\")\n",
    "    print(\"👋 I am Nisha, your online chatbot. Ask me anything.\")\n",
    "    print(\"✨ I'm here to transform you into a style icon!\")\n",
    "    print(\"💬 Try asking about: gift card, contact, potlis, batua, shoulder bags, flap bags, or luxury collection.\\n\")\n",
    "\n",
    "    while True:\n",
    "        user_input = input(\"You: \").strip().lower()\n",
    "        \n",
    "        if user_input in (\"exit\", \"quit\"):\n",
    "            print(\"👋 Thank you for visiting The Tan Clan. Stay stylish!\")\n",
    "            break\n",
    "\n",
    "        matched = False\n",
    "        for keyword, url in link_map.items():\n",
    "            if keyword in user_input:\n",
    "                print(f\"🔗 Here's what you're looking for: {url}\\n\")\n",
    "                matched = True\n",
    "                break\n",
    "\n",
    "        if not matched:\n",
    "            print(\"❓ Sorry, I didn’t catch that. Try using words like ‘gift card’, ‘batua’, or ‘luxury collection’.\\n\")\n",
    "\n",
    "# Run the chatbot\n",
    "if __name__ == \"__main__\":\n",
    "    chatbot()\n"
   ]
  },
  {
   "cell_type": "code",
   "execution_count": null,
   "id": "f5efafb2-6943-4c19-9139-bb05ca303847",
   "metadata": {},
   "outputs": [],
   "source": []
  }
 ],
 "metadata": {
  "kernelspec": {
   "display_name": "Python 3 (ipykernel)",
   "language": "python",
   "name": "python3"
  },
  "language_info": {
   "codemirror_mode": {
    "name": "ipython",
    "version": 3
   },
   "file_extension": ".py",
   "mimetype": "text/x-python",
   "name": "python",
   "nbconvert_exporter": "python",
   "pygments_lexer": "ipython3",
   "version": "3.12.4"
  }
 },
 "nbformat": 4,
 "nbformat_minor": 5
}
